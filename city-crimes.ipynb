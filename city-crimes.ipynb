{
 "cells": [
  {
   "cell_type": "code",
   "execution_count": 1,
   "metadata": {},
   "outputs": [],
   "source": [
    "import pandas as pd"
   ]
  },
  {
   "cell_type": "code",
   "execution_count": 2,
   "metadata": {},
   "outputs": [],
   "source": [
    "#dataset por municipio del área metropolotana de Monterrey\n",
    "denuncias_apodaca = pd.read_csv(\"Denuncias-segun-bien-afectado-en-ApodacaClic-en-el-grafico-para-seleccionar.csv\")\n",
    "denuncias_cadereyta = pd.read_csv(\"Denuncias-segun-bien-afectado-en-Cadereyta-JimenezClic-en-el-grafico-para-seleccionar.csv\")\n",
    "denuncias_el_carmen = pd.read_csv(\"Denuncias-segun-bien-afectado-en-El-CarmenClic-en-el-grafico-para-seleccionar.csv\")\n",
    "denuncias_garcia = pd.read_csv(\"Denuncias-segun-bien-afectado-en-GarciaClic-en-el-grafico-para-seleccionar.csv\")\n",
    "denuncias_escobedo = pd.read_csv(\"Denuncias-segun-bien-afectado-en-General-EscobedoClic-en-el-grafico-para-seleccionar.csv\")\n",
    "denuncias_guadalupe = pd.read_csv(\"Denuncias-segun-bien-afectado-en-GuadalupeClic-en-el-grafico-para-seleccionar.csv\")\n",
    "denuncias_jaurez = pd.read_csv(\"Denuncias-segun-bien-afectado-en-JuarezClic-en-el-grafico-para-seleccionar.csv\")\n",
    "denuncias_monterrey = pd.read_csv(\"Denuncias-segun-bien-afectado-en-MonterreyClic-en-el-grafico-para-seleccionar.csv\")\n",
    "denuncias_salinas = pd.read_csv(\"Denuncias-segun-bien-afectado-en-Salinas-VictoriaClic-en-el-grafico-para-seleccionar.csv\")\n",
    "denuncias_san_nico = pd.read_csv(\"Denuncias-segun-bien-afectado-en-San-Nicolas-de-los-GarzaClic-en-el-grafico-para-seleccionar.csv\")\n",
    "denuncias_san_pedro = pd.read_csv(\"Denuncias-segun-bien-afectado-en-San-Pedro-Garza-GarciaClic-en-el-grafico-para-seleccionar.csv\")\n",
    "denuncias_santa= pd.read_csv(\"Denuncias-segun-bien-afectado-en-Santa-CatarinaClic-en-el-grafico-para-seleccionar.csv\")\n",
    "denuncias_santiago = pd.read_csv(\"Denuncias-segun-bien-afectado-en-SantiagoClic-en-el-grafico-para-seleccionar.csv\")"
   ]
  }
 ],
 "metadata": {
  "kernelspec": {
   "display_name": "Python 3",
   "language": "python",
   "name": "python3"
  },
  "language_info": {
   "codemirror_mode": {
    "name": "ipython",
    "version": 3
   },
   "file_extension": ".py",
   "mimetype": "text/x-python",
   "name": "python",
   "nbconvert_exporter": "python",
   "pygments_lexer": "ipython3",
   "version": "3.10.6"
  },
  "orig_nbformat": 4
 },
 "nbformat": 4,
 "nbformat_minor": 2
}
